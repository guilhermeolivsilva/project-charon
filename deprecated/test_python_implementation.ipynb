{
 "cells": [
  {
   "cell_type": "code",
   "execution_count": 1,
   "metadata": {},
   "outputs": [],
   "source": [
    "%load_ext autoreload\n",
    "%autoreload 2\n",
    "\n",
    "import sys\n",
    "sys.path.append(\"../\")"
   ]
  },
  {
   "cell_type": "markdown",
   "metadata": {},
   "source": [
    "# `src.abstract_syntax_tree`"
   ]
  },
  {
   "cell_type": "code",
   "execution_count": 2,
   "metadata": {},
   "outputs": [],
   "source": [
    "from src.abstract_syntax_tree import Node, AbstractSyntaxTree"
   ]
  },
  {
   "cell_type": "markdown",
   "metadata": {},
   "source": [
    "## `Node`"
   ]
  },
  {
   "cell_type": "code",
   "execution_count": 3,
   "metadata": {},
   "outputs": [
    {
     "name": "stdout",
     "output_type": "stream",
     "text": [
      "ID: 1, Kind: TEST, Value: 1\n"
     ]
    }
   ],
   "source": [
    "node_with_set_value = Node(id=1, kind=\"TEST\", value=1)\n",
    "print(node_with_set_value)"
   ]
  },
  {
   "cell_type": "code",
   "execution_count": 4,
   "metadata": {},
   "outputs": [
    {
     "name": "stdout",
     "output_type": "stream",
     "text": [
      "ID: 1, Kind: TEST, Value: None\n"
     ]
    }
   ],
   "source": [
    "node_with_default_value = Node(id=1, kind=\"TEST\")\n",
    "print(node_with_default_value)"
   ]
  },
  {
   "cell_type": "markdown",
   "metadata": {},
   "source": [
    "## `AbstractSyntaxTree`"
   ]
  },
  {
   "cell_type": "code",
   "execution_count": 5,
   "metadata": {},
   "outputs": [
    {
     "name": "stdout",
     "output_type": "stream",
     "text": [
      "ID: 0, Kind: PROG, Value: None\n"
     ]
    }
   ],
   "source": [
    "tree = AbstractSyntaxTree()\n",
    "print(tree.root)"
   ]
  },
  {
   "cell_type": "markdown",
   "metadata": {},
   "source": [
    "# `src.syntax_parser`"
   ]
  },
  {
   "cell_type": "code",
   "execution_count": 6,
   "metadata": {},
   "outputs": [],
   "source": [
    "from src.syntax_parser import SyntaxParser"
   ]
  },
  {
   "cell_type": "markdown",
   "metadata": {},
   "source": [
    "## `SyntaxParser`"
   ]
  },
  {
   "cell_type": "code",
   "execution_count": 7,
   "metadata": {},
   "outputs": [
    {
     "data": {
      "text/plain": [
       "{'_global_id_manager': 1}"
      ]
     },
     "execution_count": 7,
     "metadata": {},
     "output_type": "execute_result"
    }
   ],
   "source": [
    "parser = SyntaxParser()\n",
    "vars(parser)"
   ]
  },
  {
   "cell_type": "markdown",
   "metadata": {},
   "source": [
    "### `term`"
   ]
  },
  {
   "cell_type": "code",
   "execution_count": 8,
   "metadata": {},
   "outputs": [
    {
     "name": "stdout",
     "output_type": "stream",
     "text": [
      "ID: 1, Kind: VAR, Value: 1\n"
     ]
    }
   ],
   "source": [
    "test_id_term = parser.term(\"ID\", 1)\n",
    "print(test_id_term)"
   ]
  },
  {
   "cell_type": "code",
   "execution_count": 9,
   "metadata": {},
   "outputs": [
    {
     "name": "stdout",
     "output_type": "stream",
     "text": [
      "ERROR: term() got an unexpected keyword argument 'id'\n",
      "Could not run decorated function. The ID counter was not affected.\n",
      "local variable 'result' referenced before assignment\n",
      "Test case 1: all parameters were set\n",
      "ERROR: term() got an unexpected keyword argument 'id'\n",
      "Could not run decorated function. The ID counter was not affected.\n",
      "local variable 'result' referenced before assignment\n",
      "Test case 2: `term` case, but symbol is a list\n",
      "ERROR: too many values to unpack (expected 3)\n",
      "Could not run decorated function. The ID counter was not affected.\n",
      "local variable 'result' referenced before assignment\n",
      "Test case 3: `parenthesis_expression` case, but symbol is a str\n"
     ]
    }
   ],
   "source": [
    "# This should raise Exceptions, as the call is malformed.\n",
    "\n",
    "try:\n",
    "    test_failed_term = parser.term(\n",
    "        symbol=\"OTHER\",\n",
    "        id=1,\n",
    "        lhs=Node(-1, \"TEST\"),\n",
    "        rhs=Node(-2, \"TEST\")\n",
    "    )\n",
    "    print(test_failed_term)\n",
    "except UnboundLocalError as e:\n",
    "    print(e)\n",
    "    print(\"Test case 1: all parameters were set\")\n",
    "\n",
    "try:\n",
    "    test_failed_term = parser.term(\n",
    "        symbol=[\"OTHER\"],\n",
    "        id=1\n",
    "    )\n",
    "    print(test_failed_term)\n",
    "except UnboundLocalError as e:\n",
    "    print(e)\n",
    "    print(\"Test case 2: `term` case, but symbol is a list\")\n",
    "\n",
    "try:\n",
    "    test_failed_term = parser.term(\n",
    "        symbol=\"OTHER\",\n",
    "        lhs=Node(-1, \"TEST\"),\n",
    "        rhs=Node(-2, \"TEST\")\n",
    "    )\n",
    "    print(test_failed_term)\n",
    "except UnboundLocalError as e:\n",
    "    print(e)\n",
    "    print(\"Test case 3: `parenthesis_expression` case, but symbol is a str\")"
   ]
  },
  {
   "cell_type": "code",
   "execution_count": 10,
   "metadata": {},
   "outputs": [
    {
     "name": "stdout",
     "output_type": "stream",
     "text": [
      "ID: 2, Kind: CST, Value: 1\n"
     ]
    }
   ],
   "source": [
    "test_int_term = parser.term(\"INT\", 1)\n",
    "print(test_int_term)"
   ]
  },
  {
   "cell_type": "code",
   "execution_count": 11,
   "metadata": {},
   "outputs": [
    {
     "name": "stdout",
     "output_type": "stream",
     "text": [
      "ID: 3, Kind: SET, Value: None\n",
      "ID: -1, Kind: TEST_LHS, Value: None, Parent ID: 3\n",
      "ID: -2, Kind: TEST_RHS, Value: None, Parent ID: 3\n"
     ]
    }
   ],
   "source": [
    "test_parenthesis_term = parser.term(\n",
    "    symbol=[\"LPAR\", \"ID\", \"RPAR\"],\n",
    "    lhs=Node(-1, \"TEST_LHS\"),\n",
    "    rhs=Node(-2, \"TEST_RHS\")\n",
    ")\n",
    "print(test_parenthesis_term)\n",
    "\n",
    "for child in test_parenthesis_term.children:\n",
    "    print(child)"
   ]
  },
  {
   "cell_type": "markdown",
   "metadata": {},
   "source": [
    "### `parenthesis_expression`"
   ]
  },
  {
   "cell_type": "code",
   "execution_count": 12,
   "metadata": {},
   "outputs": [],
   "source": [
    "lhs = Node(id=-1, kind=\"INT\", value=1)\n",
    "rhs = Node(id=-2, kind=\"INT\", value=2)"
   ]
  },
  {
   "cell_type": "code",
   "execution_count": 13,
   "metadata": {},
   "outputs": [
    {
     "name": "stdout",
     "output_type": "stream",
     "text": [
      "ID: 5, Kind: SET, Value: None\n",
      "ID: -1, Kind: INT, Value: 1, Parent ID: 5\n",
      "ID: -2, Kind: INT, Value: 2, Parent ID: 5\n"
     ]
    }
   ],
   "source": [
    "# Generates a SET node\n",
    "\n",
    "test_parenthesis_expression_set = parser.parenthesis_expression(\n",
    "    symbol=[\"LPAR\", \"ID\", \"RPAR\"],\n",
    "    lhs=lhs,\n",
    "    rhs=rhs\n",
    ")\n",
    "print(test_parenthesis_expression_set)\n",
    "\n",
    "for child in test_parenthesis_expression_set.children:\n",
    "    print(child)"
   ]
  },
  {
   "cell_type": "code",
   "execution_count": 14,
   "metadata": {},
   "outputs": [
    {
     "name": "stdout",
     "output_type": "stream",
     "text": [
      "ID: 6, Kind: LT, Value: None\n",
      "ID: -1, Kind: INT, Value: 1, Parent ID: 6\n",
      "ID: -2, Kind: INT, Value: 2, Parent ID: 6\n"
     ]
    }
   ],
   "source": [
    "# Generates a LT node\n",
    "\n",
    "test_parenthesis_expression_lt = parser.parenthesis_expression(\n",
    "    symbol=[\"LPAR\", \"OTHER\", \"RPAR\"],\n",
    "    lhs=lhs,\n",
    "    rhs=rhs\n",
    ")\n",
    "print(test_parenthesis_expression_lt)\n",
    "\n",
    "for child in test_parenthesis_expression_lt.children:\n",
    "    print(child)"
   ]
  },
  {
   "cell_type": "code",
   "execution_count": 15,
   "metadata": {},
   "outputs": [
    {
     "name": "stdout",
     "output_type": "stream",
     "text": [
      "Missing or misplaced left parenthesis symbol (LPAR)\n",
      "Test case 1: the RPAR is before LPAR\n",
      "not enough values to unpack (expected 3, got 2)\n",
      "Test case 2: missing LPAR\n",
      "not enough values to unpack (expected 3, got 2)\n",
      "Test case 2: missing RPAR\n"
     ]
    }
   ],
   "source": [
    "# Raises Exceptions, as the parenthesis are not correctly placed.\n",
    "\n",
    "try:\n",
    "    test_parenthesis_expression_placement = parser.parenthesis_expression(\n",
    "        symbol=[\"RPAR\", \"OTHER\", \"LPAR\"],\n",
    "        lhs=lhs,\n",
    "        rhs=rhs\n",
    "    )\n",
    "    print(test_parenthesis_expression_placement)\n",
    "except Exception as e:\n",
    "    print(e)\n",
    "    print(\"Test case 1: the RPAR is before LPAR\")\n",
    "\n",
    "try:\n",
    "    test_parenthesis_expression_missing = parser.parenthesis_expression(\n",
    "        symbol=[\"RPAR\", \"OTHER\"],\n",
    "        lhs=lhs,\n",
    "        rhs=rhs\n",
    "    )\n",
    "    print(test_parenthesis_expression_missing)\n",
    "except Exception as e:\n",
    "    print(e)\n",
    "    print(\"Test case 2: missing LPAR\")\n",
    "\n",
    "try:\n",
    "    test_parenthesis_expression_missing = parser.parenthesis_expression(\n",
    "        symbol=[\"LPAR\", \"OTHER\"],\n",
    "        lhs=lhs,\n",
    "        rhs=rhs\n",
    "    )\n",
    "    print(test_parenthesis_expression_missing)\n",
    "except Exception as e:\n",
    "    print(e)\n",
    "    print(\"Test case 2: missing RPAR\")"
   ]
  },
  {
   "cell_type": "markdown",
   "metadata": {},
   "source": [
    "### `expression`"
   ]
  },
  {
   "cell_type": "code",
   "execution_count": 16,
   "metadata": {},
   "outputs": [],
   "source": [
    "lhs = Node(id=-1, kind=\"INT\", value=1)\n",
    "rhs = Node(id=-2, kind=\"INT\", value=2)"
   ]
  },
  {
   "cell_type": "code",
   "execution_count": 17,
   "metadata": {},
   "outputs": [
    {
     "name": "stdout",
     "output_type": "stream",
     "text": [
      "ID: 8, Kind: LT, Value: None\n",
      "ID: -1, Kind: INT, Value: 1, Parent ID: 8\n",
      "ID: -2, Kind: INT, Value: 2, Parent ID: 8\n"
     ]
    }
   ],
   "source": [
    "test_expression_lt = parser.expression(\n",
    "    symbol=\"OTHER\",\n",
    "    lhs=lhs,\n",
    "    rhs=rhs\n",
    ")\n",
    "print(test_expression_lt)\n",
    "\n",
    "for child in test_expression_lt.children:\n",
    "    print(child)"
   ]
  },
  {
   "cell_type": "code",
   "execution_count": 18,
   "metadata": {},
   "outputs": [
    {
     "name": "stdout",
     "output_type": "stream",
     "text": [
      "ID: 10, Kind: SET, Value: None\n",
      "ID: -1, Kind: INT, Value: 1, Parent ID: 10\n",
      "ID: -2, Kind: INT, Value: 2, Parent ID: 10\n"
     ]
    }
   ],
   "source": [
    "test_expression_set = parser.expression(\n",
    "    symbol=\"ID\",\n",
    "    lhs=lhs,\n",
    "    rhs=rhs\n",
    ")\n",
    "print(test_expression_set)\n",
    "\n",
    "for child in test_expression_set.children:\n",
    "    print(child)"
   ]
  },
  {
   "cell_type": "markdown",
   "metadata": {},
   "source": [
    "### `sum`"
   ]
  },
  {
   "cell_type": "code",
   "execution_count": 19,
   "metadata": {},
   "outputs": [],
   "source": [
    "lhs = Node(id=-1, kind=\"INT\", value=1)\n",
    "rhs = Node(id=-2, kind=\"INT\", value=2)"
   ]
  },
  {
   "cell_type": "code",
   "execution_count": 20,
   "metadata": {},
   "outputs": [
    {
     "name": "stdout",
     "output_type": "stream",
     "text": [
      "ID: 11, Kind: ADD, Value: None\n",
      "ID: -1, Kind: INT, Value: 1, Parent ID: 11\n",
      "ID: 11, Kind: ADD, Value: None\n",
      "ID: -2, Kind: INT, Value: 2, Parent ID: 11\n",
      "ID: 11, Kind: ADD, Value: None\n"
     ]
    }
   ],
   "source": [
    "test_sum_plus = parser.sum(symbol=\"PLUS\", lhs=lhs, rhs=rhs)\n",
    "print(test_sum_plus)\n",
    "\n",
    "for child in test_sum_plus.children:\n",
    "    print(child)\n",
    "    print(child.parent)"
   ]
  },
  {
   "cell_type": "code",
   "execution_count": 21,
   "metadata": {},
   "outputs": [
    {
     "name": "stdout",
     "output_type": "stream",
     "text": [
      "ID: 12, Kind: SUB, Value: None\n",
      "ID: -1, Kind: INT, Value: 1, Parent ID: 12\n",
      "ID: 12, Kind: SUB, Value: None\n",
      "ID: -2, Kind: INT, Value: 2, Parent ID: 12\n",
      "ID: 12, Kind: SUB, Value: None\n"
     ]
    }
   ],
   "source": [
    "test_sum_minus = parser.sum(symbol=\"MINUS\", lhs=lhs, rhs=rhs)\n",
    "print(test_sum_minus)\n",
    "\n",
    "for child in test_sum_minus.children:\n",
    "    print(child)\n",
    "    print(child.parent)"
   ]
  },
  {
   "cell_type": "markdown",
   "metadata": {},
   "source": [
    "### `comparison`"
   ]
  },
  {
   "cell_type": "code",
   "execution_count": 22,
   "metadata": {},
   "outputs": [],
   "source": [
    "lhs = Node(id=-1, kind=\"INT\", value=1)\n",
    "rhs = Node(id=-2, kind=\"INT\", value=2)"
   ]
  },
  {
   "cell_type": "code",
   "execution_count": 23,
   "metadata": {},
   "outputs": [
    {
     "name": "stdout",
     "output_type": "stream",
     "text": [
      "ID: 13, Kind: LT, Value: None\n",
      "ID: -1, Kind: INT, Value: 1, Parent ID: 13\n",
      "ID: 13, Kind: LT, Value: None\n",
      "ID: -2, Kind: INT, Value: 2, Parent ID: 13\n",
      "ID: 13, Kind: LT, Value: None\n"
     ]
    }
   ],
   "source": [
    "test_comparison = parser.comparison(lhs=lhs, rhs=rhs)\n",
    "print(test_comparison)\n",
    "\n",
    "for child in test_comparison.children:\n",
    "    print(child)\n",
    "    print(child.parent)"
   ]
  },
  {
   "cell_type": "markdown",
   "metadata": {},
   "source": [
    "### `if_statement`"
   ]
  },
  {
   "cell_type": "code",
   "execution_count": 24,
   "metadata": {},
   "outputs": [],
   "source": [
    "_parenthesis_expression = Node(id=1, kind=\"PAR\")\n",
    "_statement = Node(id=2, kind=\"STTMNT\")"
   ]
  },
  {
   "cell_type": "code",
   "execution_count": 25,
   "metadata": {},
   "outputs": [
    {
     "name": "stdout",
     "output_type": "stream",
     "text": [
      "ID: 14, Kind: IF, Value: None\n",
      "ID: 1, Kind: PAR, Value: None, Parent ID: 14\n",
      "ID: 2, Kind: STTMNT, Value: None, Parent ID: 14\n"
     ]
    }
   ],
   "source": [
    "if_statement = parser.if_statement(_parenthesis_expression, _statement)\n",
    "print(if_statement)\n",
    "\n",
    "for child in if_statement.children:\n",
    "    print(child)"
   ]
  },
  {
   "cell_type": "markdown",
   "metadata": {},
   "source": [
    "### `if_else_statement`"
   ]
  },
  {
   "cell_type": "code",
   "execution_count": 26,
   "metadata": {},
   "outputs": [],
   "source": [
    "_parenthesis_expression = Node(id=1, kind=\"PAR\")\n",
    "_statement_if = Node(id=2, kind=\"STTMNT\")\n",
    "_statement_else = Node(id=3, kind=\"STTMNT\")"
   ]
  },
  {
   "cell_type": "code",
   "execution_count": 27,
   "metadata": {},
   "outputs": [
    {
     "name": "stdout",
     "output_type": "stream",
     "text": [
      "ID: 15, Kind: IFELSE, Value: None\n",
      "ID: 1, Kind: PAR, Value: None, Parent ID: 15\n",
      "ID: 2, Kind: STTMNT, Value: None, Parent ID: 15\n",
      "ID: 3, Kind: STTMNT, Value: None, Parent ID: 15\n"
     ]
    }
   ],
   "source": [
    "if_else_statement = parser.if_else_statement(_parenthesis_expression, _statement_if, _statement_else)\n",
    "print(if_else_statement)\n",
    "\n",
    "for child in if_else_statement.children:\n",
    "    print(child)"
   ]
  },
  {
   "cell_type": "markdown",
   "metadata": {},
   "source": [
    "### `while_statement`"
   ]
  },
  {
   "cell_type": "code",
   "execution_count": 28,
   "metadata": {},
   "outputs": [],
   "source": [
    "_parenthesis_expression = Node(id=1, kind=\"PAR\")\n",
    "_statement = Node(id=2, kind=\"STTMNT\")"
   ]
  },
  {
   "cell_type": "code",
   "execution_count": 29,
   "metadata": {},
   "outputs": [
    {
     "name": "stdout",
     "output_type": "stream",
     "text": [
      "ID: 16, Kind: WHILE, Value: None\n",
      "ID: 1, Kind: PAR, Value: None, Parent ID: 16\n",
      "ID: 2, Kind: STTMNT, Value: None, Parent ID: 16\n"
     ]
    }
   ],
   "source": [
    "while_statement = parser.while_statement(_parenthesis_expression, _statement)\n",
    "print(while_statement)\n",
    "\n",
    "for child in while_statement.children:\n",
    "    print(child)"
   ]
  },
  {
   "cell_type": "markdown",
   "metadata": {},
   "source": [
    "### `do_while_statement`"
   ]
  },
  {
   "cell_type": "code",
   "execution_count": 30,
   "metadata": {},
   "outputs": [],
   "source": [
    "_parenthesis_expression = Node(id=1, kind=\"PAR\")\n",
    "_statement = Node(id=2, kind=\"STTMNT\")"
   ]
  },
  {
   "cell_type": "code",
   "execution_count": 31,
   "metadata": {},
   "outputs": [
    {
     "name": "stdout",
     "output_type": "stream",
     "text": [
      "ID: 17, Kind: DOWHILE, Value: None\n",
      "ID: 1, Kind: PAR, Value: None, Parent ID: 17\n",
      "ID: 2, Kind: STTMNT, Value: None, Parent ID: 17\n"
     ]
    }
   ],
   "source": [
    "do_while_statement = parser.do_while_statement(_parenthesis_expression, _statement)\n",
    "print(do_while_statement)\n",
    "\n",
    "for child in do_while_statement.children:\n",
    "    print(child)"
   ]
  },
  {
   "cell_type": "markdown",
   "metadata": {},
   "source": [
    "### `program`"
   ]
  },
  {
   "cell_type": "code",
   "execution_count": 32,
   "metadata": {},
   "outputs": [],
   "source": [
    "_statement = Node(id=1, kind=\"STTMNT\")"
   ]
  },
  {
   "cell_type": "code",
   "execution_count": 33,
   "metadata": {},
   "outputs": [
    {
     "name": "stdout",
     "output_type": "stream",
     "text": [
      "ID: 18, Kind: PROG, Value: None\n",
      "ID: 1, Kind: STTMNT, Value: None, Parent ID: 18\n"
     ]
    }
   ],
   "source": [
    "program = parser.program(_statement)\n",
    "print(program)\n",
    "\n",
    "for child in program.children:\n",
    "    print(child)"
   ]
  },
  {
   "cell_type": "markdown",
   "metadata": {},
   "source": [
    "# `CodeGenerator`"
   ]
  },
  {
   "cell_type": "code",
   "execution_count": 34,
   "metadata": {},
   "outputs": [],
   "source": [
    "from src.code_generator import CodeGenerator"
   ]
  },
  {
   "cell_type": "markdown",
   "metadata": {},
   "source": [
    "## `generate_code`"
   ]
  },
  {
   "cell_type": "code",
   "execution_count": 35,
   "metadata": {},
   "outputs": [],
   "source": [
    "generator = CodeGenerator()"
   ]
  },
  {
   "cell_type": "markdown",
   "metadata": {},
   "source": [
    "### `simple_node`\n",
    "\n",
    "`VAR`, `CST`, `ADD`, `SUB`, `LT`."
   ]
  },
  {
   "cell_type": "code",
   "execution_count": 36,
   "metadata": {},
   "outputs": [
    {
     "name": "stdout",
     "output_type": "stream",
     "text": [
      "Instruction: IFETCH, Node: (ID: 1, Kind: VAR, Value: 23)\n"
     ]
    }
   ],
   "source": [
    "# VAR\n",
    "var_node = Node(id=1, kind=\"VAR\", value=23)\n",
    "generator.generate_code(var_node)\n",
    "print(generator)"
   ]
  },
  {
   "cell_type": "code",
   "execution_count": 37,
   "metadata": {},
   "outputs": [
    {
     "name": "stdout",
     "output_type": "stream",
     "text": [
      "Instruction: IFETCH, Node: (ID: 1, Kind: VAR, Value: 23)\n",
      "Instruction: IPUSH, Node: (ID: 2, Kind: CST, Value: 23)\n"
     ]
    }
   ],
   "source": [
    "# CST\n",
    "cst_node = Node(id=2, kind=\"CST\", value=23)\n",
    "generator.generate_code(cst_node)\n",
    "print(generator)"
   ]
  },
  {
   "cell_type": "code",
   "execution_count": 38,
   "metadata": {},
   "outputs": [
    {
     "name": "stdout",
     "output_type": "stream",
     "text": [
      "Instruction: IFETCH, Node: (ID: 1, Kind: VAR, Value: 23)\n",
      "Instruction: IPUSH, Node: (ID: 2, Kind: CST, Value: 23)\n",
      "Instruction: IFETCH, Node: (ID: -1, Kind: VAR, Value: 1, Parent ID: 19)\n",
      "Instruction: IFETCH, Node: (ID: -2, Kind: VAR, Value: 2, Parent ID: 19)\n",
      "Instruction: IADD, Node: (ID: 19, Kind: ADD, Value: None)\n"
     ]
    }
   ],
   "source": [
    "# ADD\n",
    "lhs = Node(id=-1, kind=\"VAR\", value=1)\n",
    "rhs = Node(id=-2, kind=\"VAR\", value=2)\n",
    "add_node = parser.sum(symbol=\"PLUS\", lhs=lhs, rhs=rhs)\n",
    "\n",
    "generator.generate_code(add_node)\n",
    "print(generator)"
   ]
  },
  {
   "cell_type": "code",
   "execution_count": 39,
   "metadata": {},
   "outputs": [
    {
     "name": "stdout",
     "output_type": "stream",
     "text": [
      "Instruction: IFETCH, Node: (ID: 1, Kind: VAR, Value: 23)\n",
      "Instruction: IPUSH, Node: (ID: 2, Kind: CST, Value: 23)\n",
      "Instruction: IFETCH, Node: (ID: -1, Kind: VAR, Value: 1, Parent ID: 19)\n",
      "Instruction: IFETCH, Node: (ID: -2, Kind: VAR, Value: 2, Parent ID: 19)\n",
      "Instruction: IADD, Node: (ID: 19, Kind: ADD, Value: None)\n",
      "Instruction: IFETCH, Node: (ID: -3, Kind: VAR, Value: 11, Parent ID: 20)\n",
      "Instruction: IPUSH, Node: (ID: -4, Kind: CST, Value: 22, Parent ID: 20)\n",
      "Instruction: ISUB, Node: (ID: 20, Kind: SUB, Value: None)\n"
     ]
    }
   ],
   "source": [
    "# SUB\n",
    "lhs = Node(id=-3, kind=\"VAR\", value=11)\n",
    "rhs = Node(id=-4, kind=\"CST\", value=22)\n",
    "sub_node = parser.sum(symbol=\"MINUS\", lhs=lhs, rhs=rhs)\n",
    "\n",
    "generator.generate_code(sub_node)\n",
    "print(generator)"
   ]
  },
  {
   "cell_type": "code",
   "execution_count": 40,
   "metadata": {},
   "outputs": [
    {
     "name": "stdout",
     "output_type": "stream",
     "text": [
      "Instruction: IFETCH, Node: (ID: 1, Kind: VAR, Value: 23)\n",
      "Instruction: IPUSH, Node: (ID: 2, Kind: CST, Value: 23)\n",
      "Instruction: IFETCH, Node: (ID: -1, Kind: VAR, Value: 1, Parent ID: 19)\n",
      "Instruction: IFETCH, Node: (ID: -2, Kind: VAR, Value: 2, Parent ID: 19)\n",
      "Instruction: IADD, Node: (ID: 19, Kind: ADD, Value: None)\n",
      "Instruction: IFETCH, Node: (ID: -3, Kind: VAR, Value: 11, Parent ID: 20)\n",
      "Instruction: IPUSH, Node: (ID: -4, Kind: CST, Value: 22, Parent ID: 20)\n",
      "Instruction: ISUB, Node: (ID: 20, Kind: SUB, Value: None)\n",
      "Instruction: IPUSH, Node: (ID: -1, Kind: CST, Value: 1, Parent ID: 21)\n",
      "Instruction: IPUSH, Node: (ID: -2, Kind: CST, Value: 2, Parent ID: 21)\n",
      "Instruction: ILT, Node: (ID: 21, Kind: LT, Value: None)\n"
     ]
    }
   ],
   "source": [
    "# LT\n",
    "lhs = Node(id=-1, kind=\"CST\", value=1)\n",
    "rhs = Node(id=-2, kind=\"CST\", value=2)\n",
    "lt_node = parser.comparison(lhs=lhs, rhs=rhs)\n",
    "\n",
    "generator.generate_code(lt_node)\n",
    "print(generator)"
   ]
  },
  {
   "cell_type": "markdown",
   "metadata": {},
   "source": [
    "### `parse_set_node`"
   ]
  },
  {
   "cell_type": "code",
   "execution_count": 41,
   "metadata": {},
   "outputs": [
    {
     "name": "stdout",
     "output_type": "stream",
     "text": [
      "Instruction: IFETCH, Node: (ID: 1, Kind: VAR, Value: 23)\n",
      "Instruction: IPUSH, Node: (ID: 2, Kind: CST, Value: 23)\n",
      "Instruction: IFETCH, Node: (ID: -1, Kind: VAR, Value: 1, Parent ID: 19)\n",
      "Instruction: IFETCH, Node: (ID: -2, Kind: VAR, Value: 2, Parent ID: 19)\n",
      "Instruction: IADD, Node: (ID: 19, Kind: ADD, Value: None)\n",
      "Instruction: IFETCH, Node: (ID: -3, Kind: VAR, Value: 11, Parent ID: 20)\n",
      "Instruction: IPUSH, Node: (ID: -4, Kind: CST, Value: 22, Parent ID: 20)\n",
      "Instruction: ISUB, Node: (ID: 20, Kind: SUB, Value: None)\n",
      "Instruction: IPUSH, Node: (ID: -1, Kind: CST, Value: 1, Parent ID: 21)\n",
      "Instruction: IPUSH, Node: (ID: -2, Kind: CST, Value: 2, Parent ID: 21)\n",
      "Instruction: ILT, Node: (ID: 21, Kind: LT, Value: None)\n",
      "Instruction: IPUSH, Node: (ID: -2, Kind: CST, Value: 2, Parent ID: 22)\n",
      "Instruction: ISTORE, Node: (ID: -1, Kind: CST, Value: 1, Parent ID: 22)\n"
     ]
    }
   ],
   "source": [
    "lhs = Node(id=-1, kind=\"CST\", value=1)\n",
    "rhs = Node(id=-2, kind=\"CST\", value=2)\n",
    "set_node = parser.expression(\n",
    "    symbol=\"ID\",\n",
    "    lhs=lhs,\n",
    "    rhs=rhs\n",
    ")\n",
    "\n",
    "generator.generate_code(set_node)\n",
    "print(generator)"
   ]
  }
 ],
 "metadata": {
  "kernelspec": {
   "display_name": "fastapi_tests",
   "language": "python",
   "name": "python3"
  },
  "language_info": {
   "codemirror_mode": {
    "name": "ipython",
    "version": 3
   },
   "file_extension": ".py",
   "mimetype": "text/x-python",
   "name": "python",
   "nbconvert_exporter": "python",
   "pygments_lexer": "ipython3",
   "version": "3.9.4"
  }
 },
 "nbformat": 4,
 "nbformat_minor": 2
}
