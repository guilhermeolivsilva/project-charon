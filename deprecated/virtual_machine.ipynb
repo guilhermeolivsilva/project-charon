{
 "cells": [
  {
   "cell_type": "code",
   "execution_count": 2,
   "metadata": {},
   "outputs": [
    {
     "name": "stdout",
     "output_type": "stream",
     "text": [
      "The autoreload extension is already loaded. To reload it, use:\n",
      "  %reload_ext autoreload\n"
     ]
    }
   ],
   "source": [
    "%load_ext autoreload\n",
    "%autoreload 2\n",
    "\n",
    "import sys\n",
    "sys.path.append(\"../\")"
   ]
  },
  {
   "cell_type": "code",
   "execution_count": 3,
   "metadata": {},
   "outputs": [],
   "source": [
    "from src.code_generator import CodeGenerator\n",
    "from src.node import Node\n",
    "from src.syntax_parser import SyntaxParser\n",
    "from src.virtual_machine import VirtualMachine"
   ]
  },
  {
   "cell_type": "code",
   "execution_count": 4,
   "metadata": {},
   "outputs": [
    {
     "name": "stdout",
     "output_type": "stream",
     "text": [
      "IFETCH ID: -1, Kind: VAR, Value: 1, Parent ID: 1\n",
      "IFETCH ID: -2, Kind: VAR, Value: 2, Parent ID: 1\n",
      "IADD ID: 1, Kind: ADD, Value: None\n",
      "HALT ID: -1, Kind: HALT, Value: None\n"
     ]
    }
   ],
   "source": [
    "parser = SyntaxParser()\n",
    "generator = CodeGenerator()\n",
    "\n",
    "lhs = Node(id=-1, kind=\"VAR\", value=1)\n",
    "rhs = Node(id=-2, kind=\"VAR\", value=2)\n",
    "add_node = parser.sum(symbol=\"PLUS\", lhs=lhs, rhs=rhs)\n",
    "\n",
    "generator.generate_code(add_node)\n",
    "\n",
    "code_collection = generator.code_collection\n",
    "code_collection.append((\"HALT\", Node(-1, \"HALT\")))\n",
    "\n",
    "for instruction, node in code_collection:\n",
    "    print(instruction, node)\n",
    "\n",
    "program_counter = 0\n",
    "stack_pointer = 0\n",
    "stack = [None for _ in range(1, 10)]\n",
    "_globals = {i: 0 for i in range(1, 26+1)}\n",
    "_globals[1] = 23\n",
    "_globals[2] = 35"
   ]
  },
  {
   "cell_type": "code",
   "execution_count": null,
   "metadata": {},
   "outputs": [
    {
     "name": "stdout",
     "output_type": "stream",
     "text": [
      "IFETCH\n",
      "ID: -1, Kind: VAR, Value: 1, Parent ID: 31\n"
     ]
    }
   ],
   "source": [
    "# primeira instrucao\n",
    "instruction, node = code_collection[program_counter]\n",
    "print(instruction)\n",
    "print(node)\n",
    "program_counter += 1\n"
   ]
  },
  {
   "cell_type": "code",
   "execution_count": null,
   "metadata": {},
   "outputs": [
    {
     "name": "stdout",
     "output_type": "stream",
     "text": [
      "[23, None, None, None, None, None, None, None, None]\n"
     ]
    }
   ],
   "source": [
    "# ifetch\n",
    "stack[stack_pointer] = _globals[program_counter]\n",
    "stack_pointer += 1\n",
    "print(stack)"
   ]
  },
  {
   "cell_type": "code",
   "execution_count": null,
   "metadata": {},
   "outputs": [
    {
     "name": "stdout",
     "output_type": "stream",
     "text": [
      "IFETCH\n",
      "ID: -2, Kind: VAR, Value: 2, Parent ID: 31\n"
     ]
    }
   ],
   "source": [
    "# segunda instrucao\n",
    "instruction, node = code_collection[program_counter]\n",
    "print(instruction)\n",
    "print(node)\n",
    "program_counter += 1"
   ]
  },
  {
   "cell_type": "code",
   "execution_count": null,
   "metadata": {},
   "outputs": [
    {
     "name": "stdout",
     "output_type": "stream",
     "text": [
      "[23, 35, None, None, None, None, None, None, None]\n"
     ]
    }
   ],
   "source": [
    "# ifetch\n",
    "stack[stack_pointer] = _globals[program_counter]\n",
    "stack_pointer += 1\n",
    "print(stack)"
   ]
  },
  {
   "cell_type": "code",
   "execution_count": null,
   "metadata": {},
   "outputs": [
    {
     "name": "stdout",
     "output_type": "stream",
     "text": [
      "IADD\n",
      "ID: 31, Kind: ADD, Value: None\n"
     ]
    }
   ],
   "source": [
    "# terceira instrucao\n",
    "instruction, node = code_collection[program_counter]\n",
    "print(instruction)\n",
    "print(node)\n",
    "program_counter += 1"
   ]
  },
  {
   "cell_type": "code",
   "execution_count": null,
   "metadata": {},
   "outputs": [
    {
     "data": {
      "text/plain": [
       "[58, 35, None, None, None, None, None, None, None]"
      ]
     },
     "metadata": {},
     "output_type": "display_data"
    }
   ],
   "source": [
    "# iadd\n",
    "stack[stack_pointer - 2] += stack[stack_pointer - 1]\n",
    "stack_pointer -= 1\n",
    "stack"
   ]
  },
  {
   "cell_type": "code",
   "execution_count": null,
   "metadata": {},
   "outputs": [
    {
     "data": {
      "text/plain": [
       "1"
      ]
     },
     "metadata": {},
     "output_type": "display_data"
    }
   ],
   "source": [
    "stack_pointer"
   ]
  },
  {
   "cell_type": "code",
   "execution_count": null,
   "metadata": {},
   "outputs": [],
   "source": []
  }
 ],
 "metadata": {
  "kernelspec": {
   "display_name": "base",
   "language": "python",
   "name": "python3"
  },
  "language_info": {
   "codemirror_mode": {
    "name": "ipython",
    "version": 3
   },
   "file_extension": ".py",
   "mimetype": "text/x-python",
   "name": "python",
   "nbconvert_exporter": "python",
   "pygments_lexer": "ipython3",
   "version": "3.9.4"
  }
 },
 "nbformat": 4,
 "nbformat_minor": 2
}
