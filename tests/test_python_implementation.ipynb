{
 "cells": [
  {
   "cell_type": "code",
   "execution_count": null,
   "metadata": {},
   "outputs": [],
   "source": [
    "%load_ext autoreload\n",
    "%autoreload 2"
   ]
  },
  {
   "cell_type": "markdown",
   "metadata": {},
   "source": [
    "# `src.abstract_syntax_tree`"
   ]
  },
  {
   "cell_type": "code",
   "execution_count": null,
   "metadata": {},
   "outputs": [],
   "source": [
    "from src.abstract_syntax_tree import Node, AbstractSyntaxTree"
   ]
  },
  {
   "cell_type": "markdown",
   "metadata": {},
   "source": [
    "## `Node`"
   ]
  },
  {
   "cell_type": "code",
   "execution_count": null,
   "metadata": {},
   "outputs": [],
   "source": [
    "node_with_set_value = Node(id=1, kind=\"TEST\", value=1)\n",
    "print(node_with_set_value)"
   ]
  },
  {
   "cell_type": "code",
   "execution_count": null,
   "metadata": {},
   "outputs": [],
   "source": [
    "node_with_default_value = Node(id=1, kind=\"TEST\")\n",
    "print(node_with_default_value)"
   ]
  },
  {
   "cell_type": "markdown",
   "metadata": {},
   "source": [
    "## `AbstractSyntaxTree`"
   ]
  },
  {
   "cell_type": "code",
   "execution_count": null,
   "metadata": {},
   "outputs": [],
   "source": [
    "tree = AbstractSyntaxTree()\n",
    "print(tree.root)"
   ]
  },
  {
   "cell_type": "markdown",
   "metadata": {},
   "source": [
    "# `src.syntax_parser`"
   ]
  },
  {
   "cell_type": "code",
   "execution_count": null,
   "metadata": {},
   "outputs": [],
   "source": [
    "from src.syntax_parser import SyntaxParser"
   ]
  },
  {
   "cell_type": "markdown",
   "metadata": {},
   "source": [
    "## `SyntaxParser`"
   ]
  },
  {
   "cell_type": "code",
   "execution_count": null,
   "metadata": {},
   "outputs": [],
   "source": [
    "parser = SyntaxParser()\n",
    "vars(parser)"
   ]
  },
  {
   "cell_type": "markdown",
   "metadata": {},
   "source": [
    "### `term`"
   ]
  },
  {
   "cell_type": "code",
   "execution_count": null,
   "metadata": {},
   "outputs": [],
   "source": [
    "test_id_term = parser.term(\"ID\", 1)\n",
    "print(test_id_term)"
   ]
  },
  {
   "cell_type": "code",
   "execution_count": null,
   "metadata": {},
   "outputs": [],
   "source": [
    "# This should raise Exceptions, as the call is malformed.\n",
    "\n",
    "try:\n",
    "    test_failed_term = parser.term(\n",
    "        symbol=\"OTHER\",\n",
    "        id=1,\n",
    "        lhs=Node(-1, \"TEST\"),\n",
    "        rhs=Node(-2, \"TEST\")\n",
    "    )\n",
    "    print(test_failed_term)\n",
    "except UnboundLocalError as e:\n",
    "    print(e)\n",
    "    print(\"Test case 1: all parameters were set\")\n",
    "\n",
    "try:\n",
    "    test_failed_term = parser.term(\n",
    "        symbol=[\"OTHER\"],\n",
    "        id=1\n",
    "    )\n",
    "    print(test_failed_term)\n",
    "except UnboundLocalError as e:\n",
    "    print(e)\n",
    "    print(\"Test case 2: `term` case, but symbol is a list\")\n",
    "\n",
    "try:\n",
    "    test_failed_term = parser.term(\n",
    "        symbol=\"OTHER\",\n",
    "        lhs=Node(-1, \"TEST\"),\n",
    "        rhs=Node(-2, \"TEST\")\n",
    "    )\n",
    "    print(test_failed_term)\n",
    "except UnboundLocalError as e:\n",
    "    print(e)\n",
    "    print(\"Test case 3: `parenthesis_expression` case, but symbol is a str\")"
   ]
  },
  {
   "cell_type": "code",
   "execution_count": null,
   "metadata": {},
   "outputs": [],
   "source": [
    "test_int_term = parser.term(\"INT\", 1)\n",
    "print(test_int_term)"
   ]
  },
  {
   "cell_type": "code",
   "execution_count": null,
   "metadata": {},
   "outputs": [],
   "source": [
    "test_parenthesis_term = parser.term(\n",
    "    symbol=[\"LPAR\", \"ID\", \"RPAR\"],\n",
    "    lhs=Node(-1, \"TEST_LHS\"),\n",
    "    rhs=Node(-2, \"TEST_RHS\")\n",
    ")\n",
    "print(test_parenthesis_term)\n",
    "\n",
    "for child in test_parenthesis_term.children:\n",
    "    print(child)"
   ]
  },
  {
   "cell_type": "markdown",
   "metadata": {},
   "source": [
    "### `parenthesis_expression`"
   ]
  },
  {
   "cell_type": "code",
   "execution_count": null,
   "metadata": {},
   "outputs": [],
   "source": [
    "lhs = Node(id=-1, kind=\"INT\", value=1)\n",
    "rhs = Node(id=-2, kind=\"INT\", value=2)"
   ]
  },
  {
   "cell_type": "code",
   "execution_count": null,
   "metadata": {},
   "outputs": [],
   "source": [
    "# Generates a SET node\n",
    "\n",
    "test_parenthesis_expression_set = parser.parenthesis_expression(\n",
    "    symbol=[\"LPAR\", \"ID\", \"RPAR\"],\n",
    "    lhs=lhs,\n",
    "    rhs=rhs\n",
    ")\n",
    "print(test_parenthesis_expression_set)\n",
    "\n",
    "for child in test_parenthesis_expression_set.children:\n",
    "    print(child)"
   ]
  },
  {
   "cell_type": "code",
   "execution_count": null,
   "metadata": {},
   "outputs": [],
   "source": [
    "# Generates a LT node\n",
    "\n",
    "test_parenthesis_expression_lt = parser.parenthesis_expression(\n",
    "    symbol=[\"LPAR\", \"OTHER\", \"RPAR\"],\n",
    "    lhs=lhs,\n",
    "    rhs=rhs\n",
    ")\n",
    "print(test_parenthesis_expression_lt)\n",
    "\n",
    "for child in test_parenthesis_expression_lt.children:\n",
    "    print(child)"
   ]
  },
  {
   "cell_type": "code",
   "execution_count": null,
   "metadata": {},
   "outputs": [],
   "source": [
    "# Raises Exceptions, as the parenthesis are not correctly placed.\n",
    "\n",
    "try:\n",
    "    test_parenthesis_expression_placement = parser.parenthesis_expression(\n",
    "        symbol=[\"RPAR\", \"OTHER\", \"LPAR\"],\n",
    "        lhs=lhs,\n",
    "        rhs=rhs\n",
    "    )\n",
    "    print(test_parenthesis_expression_placement)\n",
    "except Exception as e:\n",
    "    print(e)\n",
    "    print(\"Test case 1: the RPAR is before LPAR\")\n",
    "\n",
    "try:\n",
    "    test_parenthesis_expression_missing = parser.parenthesis_expression(\n",
    "        symbol=[\"RPAR\", \"OTHER\"],\n",
    "        lhs=lhs,\n",
    "        rhs=rhs\n",
    "    )\n",
    "    print(test_parenthesis_expression_missing)\n",
    "except Exception as e:\n",
    "    print(e)\n",
    "    print(\"Test case 2: missing LPAR\")\n",
    "\n",
    "try:\n",
    "    test_parenthesis_expression_missing = parser.parenthesis_expression(\n",
    "        symbol=[\"LPAR\", \"OTHER\"],\n",
    "        lhs=lhs,\n",
    "        rhs=rhs\n",
    "    )\n",
    "    print(test_parenthesis_expression_missing)\n",
    "except Exception as e:\n",
    "    print(e)\n",
    "    print(\"Test case 2: missing RPAR\")"
   ]
  },
  {
   "cell_type": "markdown",
   "metadata": {},
   "source": [
    "### `expression`"
   ]
  },
  {
   "cell_type": "code",
   "execution_count": null,
   "metadata": {},
   "outputs": [],
   "source": [
    "lhs = Node(id=-1, kind=\"INT\", value=1)\n",
    "rhs = Node(id=-2, kind=\"INT\", value=2)"
   ]
  },
  {
   "cell_type": "code",
   "execution_count": null,
   "metadata": {},
   "outputs": [],
   "source": [
    "test_expression_lt = parser.expression(\n",
    "    symbol=\"OTHER\",\n",
    "    lhs=lhs,\n",
    "    rhs=rhs\n",
    ")\n",
    "print(test_expression_lt)\n",
    "\n",
    "for child in test_expression_lt.children:\n",
    "    print(child)"
   ]
  },
  {
   "cell_type": "code",
   "execution_count": null,
   "metadata": {},
   "outputs": [],
   "source": [
    "test_expression_set = parser.expression(\n",
    "    symbol=\"ID\",\n",
    "    lhs=lhs,\n",
    "    rhs=rhs\n",
    ")\n",
    "print(test_expression_set)\n",
    "\n",
    "for child in test_expression_set.children:\n",
    "    print(child)"
   ]
  },
  {
   "cell_type": "markdown",
   "metadata": {},
   "source": [
    "### `sum`"
   ]
  },
  {
   "cell_type": "code",
   "execution_count": null,
   "metadata": {},
   "outputs": [],
   "source": [
    "lhs = Node(id=-1, kind=\"INT\", value=1)\n",
    "rhs = Node(id=-2, kind=\"INT\", value=2)"
   ]
  },
  {
   "cell_type": "code",
   "execution_count": null,
   "metadata": {},
   "outputs": [],
   "source": [
    "test_sum_plus = parser.sum(symbol=\"PLUS\", lhs=lhs, rhs=rhs)\n",
    "print(test_sum_plus)\n",
    "\n",
    "for child in test_sum_plus.children:\n",
    "    print(child)\n",
    "    print(child.parent)"
   ]
  },
  {
   "cell_type": "code",
   "execution_count": null,
   "metadata": {},
   "outputs": [],
   "source": [
    "test_sum_minus = parser.sum(symbol=\"MINUS\", lhs=lhs, rhs=rhs)\n",
    "print(test_sum_minus)\n",
    "\n",
    "for child in test_sum_minus.children:\n",
    "    print(child)\n",
    "    print(child.parent)"
   ]
  },
  {
   "cell_type": "markdown",
   "metadata": {},
   "source": [
    "### `comparison`"
   ]
  },
  {
   "cell_type": "code",
   "execution_count": null,
   "metadata": {},
   "outputs": [],
   "source": [
    "lhs = Node(id=-1, kind=\"INT\", value=1)\n",
    "rhs = Node(id=-2, kind=\"INT\", value=2)"
   ]
  },
  {
   "cell_type": "code",
   "execution_count": null,
   "metadata": {},
   "outputs": [],
   "source": [
    "test_comparison = parser.comparison(lhs=lhs, rhs=rhs)\n",
    "print(test_comparison)\n",
    "\n",
    "for child in test_comparison.children:\n",
    "    print(child)\n",
    "    print(child.parent)"
   ]
  },
  {
   "cell_type": "markdown",
   "metadata": {},
   "source": [
    "### `if_statement`"
   ]
  },
  {
   "cell_type": "code",
   "execution_count": null,
   "metadata": {},
   "outputs": [],
   "source": [
    "_parenthesis_expression = Node(id=1, kind=\"PAR\")\n",
    "_statement = Node(id=2, kind=\"STTMNT\")"
   ]
  },
  {
   "cell_type": "code",
   "execution_count": null,
   "metadata": {},
   "outputs": [],
   "source": [
    "if_statement = parser.if_statement(_parenthesis_expression, _statement)\n",
    "print(if_statement)\n",
    "\n",
    "for child in if_statement.children:\n",
    "    print(child)"
   ]
  },
  {
   "cell_type": "markdown",
   "metadata": {},
   "source": [
    "### `if_else_statement`"
   ]
  },
  {
   "cell_type": "code",
   "execution_count": null,
   "metadata": {},
   "outputs": [],
   "source": [
    "_parenthesis_expression = Node(id=1, kind=\"PAR\")\n",
    "_statement_if = Node(id=2, kind=\"STTMNT\")\n",
    "_statement_else = Node(id=3, kind=\"STTMNT\")"
   ]
  },
  {
   "cell_type": "code",
   "execution_count": null,
   "metadata": {},
   "outputs": [],
   "source": [
    "if_else_statement = parser.if_else_statement(_parenthesis_expression, _statement_if, _statement_else)\n",
    "print(if_else_statement)\n",
    "\n",
    "for child in if_else_statement.children:\n",
    "    print(child)"
   ]
  },
  {
   "cell_type": "markdown",
   "metadata": {},
   "source": [
    "### `while_statement`"
   ]
  },
  {
   "cell_type": "code",
   "execution_count": null,
   "metadata": {},
   "outputs": [],
   "source": [
    "_parenthesis_expression = Node(id=1, kind=\"PAR\")\n",
    "_statement = Node(id=2, kind=\"STTMNT\")"
   ]
  },
  {
   "cell_type": "code",
   "execution_count": null,
   "metadata": {},
   "outputs": [],
   "source": [
    "while_statement = parser.while_statement(_parenthesis_expression, _statement)\n",
    "print(while_statement)\n",
    "\n",
    "for child in while_statement.children:\n",
    "    print(child)"
   ]
  },
  {
   "cell_type": "markdown",
   "metadata": {},
   "source": [
    "### `do_while_statement`"
   ]
  },
  {
   "cell_type": "code",
   "execution_count": null,
   "metadata": {},
   "outputs": [],
   "source": [
    "_parenthesis_expression = Node(id=1, kind=\"PAR\")\n",
    "_statement = Node(id=2, kind=\"STTMNT\")"
   ]
  },
  {
   "cell_type": "code",
   "execution_count": null,
   "metadata": {},
   "outputs": [],
   "source": [
    "do_while_statement = parser.do_while_statement(_parenthesis_expression, _statement)\n",
    "print(do_while_statement)\n",
    "\n",
    "for child in do_while_statement.children:\n",
    "    print(child)"
   ]
  },
  {
   "cell_type": "markdown",
   "metadata": {},
   "source": [
    "### `program`"
   ]
  },
  {
   "cell_type": "code",
   "execution_count": null,
   "metadata": {},
   "outputs": [],
   "source": [
    "_statement = Node(id=1, kind=\"STTMNT\")"
   ]
  },
  {
   "cell_type": "code",
   "execution_count": null,
   "metadata": {},
   "outputs": [],
   "source": [
    "program = parser.program(_statement)\n",
    "print(program)\n",
    "\n",
    "for child in program.children:\n",
    "    print(child)"
   ]
  },
  {
   "cell_type": "markdown",
   "metadata": {},
   "source": [
    "# `CodeGenerator`"
   ]
  },
  {
   "cell_type": "code",
   "execution_count": null,
   "metadata": {},
   "outputs": [],
   "source": [
    "from src.code_generator import CodeGenerator"
   ]
  },
  {
   "cell_type": "markdown",
   "metadata": {},
   "source": [
    "## `generate_code`"
   ]
  },
  {
   "cell_type": "code",
   "execution_count": null,
   "metadata": {},
   "outputs": [],
   "source": [
    "generator = CodeGenerator()"
   ]
  },
  {
   "cell_type": "markdown",
   "metadata": {},
   "source": [
    "### `simple_node`\n",
    "\n",
    "`VAR`, `CST`, `ADD`, `SUB`, `LT`."
   ]
  },
  {
   "cell_type": "code",
   "execution_count": null,
   "metadata": {},
   "outputs": [],
   "source": [
    "# VAR\n",
    "var_node = Node(id=1, kind=\"VAR\", value=23)\n",
    "generator.generate_code(var_node)\n",
    "print(generator)"
   ]
  },
  {
   "cell_type": "code",
   "execution_count": null,
   "metadata": {},
   "outputs": [],
   "source": [
    "# CST\n",
    "cst_node = Node(id=2, kind=\"CST\", value=23)\n",
    "generator.generate_code(cst_node)\n",
    "print(generator)"
   ]
  },
  {
   "cell_type": "code",
   "execution_count": null,
   "metadata": {},
   "outputs": [],
   "source": [
    "# ADD\n",
    "lhs = Node(id=-1, kind=\"CST\", value=1)\n",
    "rhs = Node(id=-2, kind=\"VAR\", value=2)\n",
    "add_node = parser.sum(symbol=\"PLUS\", lhs=lhs, rhs=rhs)\n",
    "\n",
    "generator.generate_code(add_node)\n",
    "print(generator)"
   ]
  },
  {
   "cell_type": "code",
   "execution_count": null,
   "metadata": {},
   "outputs": [],
   "source": [
    "# SUB\n",
    "lhs = Node(id=-3, kind=\"VAR\", value=11)\n",
    "rhs = Node(id=-4, kind=\"CST\", value=22)\n",
    "sub_node = parser.sum(symbol=\"MINUS\", lhs=lhs, rhs=rhs)\n",
    "\n",
    "generator.generate_code(sub_node)\n",
    "print(generator)"
   ]
  },
  {
   "cell_type": "code",
   "execution_count": null,
   "metadata": {},
   "outputs": [],
   "source": [
    "# LT\n",
    "lhs = Node(id=-1, kind=\"CST\", value=1)\n",
    "rhs = Node(id=-2, kind=\"CST\", value=2)\n",
    "lt_node = parser.comparison(lhs=lhs, rhs=rhs)\n",
    "\n",
    "generator.generate_code(lt_node)\n",
    "print(generator)"
   ]
  },
  {
   "cell_type": "markdown",
   "metadata": {},
   "source": [
    "### `parse_set_node`"
   ]
  },
  {
   "cell_type": "code",
   "execution_count": null,
   "metadata": {},
   "outputs": [],
   "source": [
    "lhs = Node(id=-1, kind=\"CST\", value=1)\n",
    "rhs = Node(id=-2, kind=\"CST\", value=2)\n",
    "set_node = parser.expression(\n",
    "    symbol=\"ID\",\n",
    "    lhs=lhs,\n",
    "    rhs=rhs\n",
    ")\n",
    "\n",
    "generator.generate_code(set_node)\n",
    "print(generator)"
   ]
  },
  {
   "cell_type": "code",
   "execution_count": null,
   "metadata": {},
   "outputs": [],
   "source": []
  }
 ],
 "metadata": {
  "kernelspec": {
   "display_name": "fastapi_tests",
   "language": "python",
   "name": "python3"
  },
  "language_info": {
   "codemirror_mode": {
    "name": "ipython",
    "version": 3
   },
   "file_extension": ".py",
   "mimetype": "text/x-python",
   "name": "python",
   "nbconvert_exporter": "python",
   "pygments_lexer": "ipython3",
   "version": "3.9.13"
  }
 },
 "nbformat": 4,
 "nbformat_minor": 2
}
