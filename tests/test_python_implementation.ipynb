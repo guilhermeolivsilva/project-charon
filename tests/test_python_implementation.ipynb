{
 "cells": [
  {
   "cell_type": "code",
   "execution_count": 1,
   "metadata": {},
   "outputs": [],
   "source": [
    "%load_ext autoreload\n",
    "%autoreload 2\n",
    "\n",
    "import sys\n",
    "sys.path.append(\"/Users/guilhermesilva/UFMG/Mestrado/Thesis/tinyc\")"
   ]
  },
  {
   "cell_type": "markdown",
   "metadata": {},
   "source": [
    "# `src.abstract_syntax_tree`"
   ]
  },
  {
   "cell_type": "code",
   "execution_count": 2,
   "metadata": {},
   "outputs": [],
   "source": [
    "from src.abstract_syntax_tree import Node, AbstractSyntaxTree"
   ]
  },
  {
   "cell_type": "markdown",
   "metadata": {},
   "source": [
    "## `Node`"
   ]
  },
  {
   "cell_type": "code",
   "execution_count": 3,
   "metadata": {},
   "outputs": [
    {
     "name": "stdout",
     "output_type": "stream",
     "text": [
      "ID: 1, Kind: TEST, Value: 1\n"
     ]
    }
   ],
   "source": [
    "node_with_set_value = Node(id=1, kind=\"TEST\", value=1)\n",
    "print(node_with_set_value)"
   ]
  },
  {
   "cell_type": "code",
   "execution_count": 4,
   "metadata": {},
   "outputs": [
    {
     "name": "stdout",
     "output_type": "stream",
     "text": [
      "ID: 1, Kind: TEST, Value: 0\n"
     ]
    }
   ],
   "source": [
    "node_with_default_value = Node(id=1, kind=\"TEST\")\n",
    "print(node_with_default_value)"
   ]
  },
  {
   "cell_type": "markdown",
   "metadata": {},
   "source": [
    "## `AbstractSyntaxTree`"
   ]
  },
  {
   "cell_type": "code",
   "execution_count": 5,
   "metadata": {},
   "outputs": [
    {
     "name": "stdout",
     "output_type": "stream",
     "text": [
      "ID: 0, Kind: PROG, Value: 0\n"
     ]
    }
   ],
   "source": [
    "tree = AbstractSyntaxTree()\n",
    "print(tree.root)"
   ]
  },
  {
   "cell_type": "markdown",
   "metadata": {},
   "source": [
    "# `src.syntax_parser`"
   ]
  },
  {
   "cell_type": "code",
   "execution_count": 3,
   "metadata": {},
   "outputs": [],
   "source": [
    "from src.syntax_parser import SyntaxParser"
   ]
  },
  {
   "cell_type": "markdown",
   "metadata": {},
   "source": [
    "## `SyntaxParser`"
   ]
  },
  {
   "cell_type": "code",
   "execution_count": 4,
   "metadata": {},
   "outputs": [
    {
     "data": {
      "text/plain": [
       "{'_global_id_manager': 1}"
      ]
     },
     "execution_count": 4,
     "metadata": {},
     "output_type": "execute_result"
    }
   ],
   "source": [
    "parser = SyntaxParser()\n",
    "vars(parser)"
   ]
  },
  {
   "cell_type": "markdown",
   "metadata": {},
   "source": [
    "### `term`"
   ]
  },
  {
   "cell_type": "code",
   "execution_count": 5,
   "metadata": {},
   "outputs": [
    {
     "name": "stdout",
     "output_type": "stream",
     "text": [
      "ID: 1, Kind: VAR, Value: 1\n"
     ]
    }
   ],
   "source": [
    "test_id_term = parser.term(\"ID\", 1)\n",
    "print(test_id_term)"
   ]
  },
  {
   "cell_type": "code",
   "execution_count": 9,
   "metadata": {},
   "outputs": [
    {
     "name": "stdout",
     "output_type": "stream",
     "text": [
      "Could not run decorated function. The ID counter was not affected.\n",
      "Could not run decorated function. The ID counter was not affected.\n"
     ]
    },
    {
     "ename": "UnboundLocalError",
     "evalue": "local variable 'result' referenced before assignment",
     "output_type": "error",
     "traceback": [
      "\u001b[0;31m---------------------------------------------------------------------------\u001b[0m",
      "\u001b[0;31mUnboundLocalError\u001b[0m                         Traceback (most recent call last)",
      "Cell \u001b[0;32mIn[9], line 2\u001b[0m\n\u001b[1;32m      1\u001b[0m \u001b[38;5;66;03m# This should raise an Exception, as `parenthesis_expression` is not yet implemented\u001b[39;00m\n\u001b[0;32m----> 2\u001b[0m test_other_term \u001b[38;5;241m=\u001b[39m \u001b[43mparser\u001b[49m\u001b[38;5;241;43m.\u001b[39;49m\u001b[43mterm\u001b[49m\u001b[43m(\u001b[49m\u001b[38;5;124;43m\"\u001b[39;49m\u001b[38;5;124;43mOTHER\u001b[39;49m\u001b[38;5;124;43m\"\u001b[39;49m\u001b[43m,\u001b[49m\u001b[43m \u001b[49m\u001b[38;5;241;43m1\u001b[39;49m\u001b[43m)\u001b[49m\n\u001b[1;32m      3\u001b[0m \u001b[38;5;28mprint\u001b[39m(test_other_term)\n",
      "File \u001b[0;32m~/UFMG/Mestrado/Thesis/tinyc/src/syntax_parser.py:43\u001b[0m, in \u001b[0;36muses_global_id.<locals>.wrapper\u001b[0;34m(cls, *args, **kwargs)\u001b[0m\n\u001b[1;32m     40\u001b[0m \u001b[38;5;28;01melse\u001b[39;00m:\n\u001b[1;32m     41\u001b[0m     \u001b[38;5;28mcls\u001b[39m\u001b[38;5;241m.\u001b[39mglobal_id_manager \u001b[38;5;241m+\u001b[39m\u001b[38;5;241m=\u001b[39m \u001b[38;5;241m1\u001b[39m\n\u001b[0;32m---> 43\u001b[0m \u001b[38;5;28;01mreturn\u001b[39;00m \u001b[43mresult\u001b[49m\n",
      "\u001b[0;31mUnboundLocalError\u001b[0m: local variable 'result' referenced before assignment"
     ]
    }
   ],
   "source": [
    "# This should raise an Exception, as `parenthesis_expression` is not yet implemented\n",
    "test_other_term = parser.term(\"OTHER\", 1)\n",
    "print(test_other_term)"
   ]
  },
  {
   "cell_type": "code",
   "execution_count": 6,
   "metadata": {},
   "outputs": [
    {
     "name": "stdout",
     "output_type": "stream",
     "text": [
      "ID: 2, Kind: CST, Value: 1\n"
     ]
    }
   ],
   "source": [
    "test_int_term = parser.term(\"INT\", 1)\n",
    "print(test_int_term)"
   ]
  },
  {
   "cell_type": "markdown",
   "metadata": {},
   "source": [
    "### `sum`"
   ]
  },
  {
   "cell_type": "code",
   "execution_count": 7,
   "metadata": {},
   "outputs": [],
   "source": [
    "lhs = Node(id=-1, kind=\"INT\", value=1)\n",
    "rhs = Node(id=-2, kind=\"INT\", value=2)"
   ]
  },
  {
   "cell_type": "code",
   "execution_count": 11,
   "metadata": {},
   "outputs": [
    {
     "name": "stdout",
     "output_type": "stream",
     "text": [
      "ID: 5, Kind: ADD, Value: -1\n",
      "ID: -1, Kind: INT, Value: 1, Parent ID: 5\n",
      "ID: 5, Kind: ADD, Value: -1\n",
      "ID: -2, Kind: INT, Value: 2, Parent ID: 5\n",
      "ID: 5, Kind: ADD, Value: -1\n"
     ]
    }
   ],
   "source": [
    "test_sum_plus = parser.sum(symbol=\"PLUS\", lhs=lhs, rhs=rhs)\n",
    "print(test_sum_plus)\n",
    "\n",
    "for child in test_sum_plus.children:\n",
    "    print(child)\n",
    "    print(child.parent)"
   ]
  },
  {
   "cell_type": "code",
   "execution_count": 12,
   "metadata": {},
   "outputs": [
    {
     "name": "stdout",
     "output_type": "stream",
     "text": [
      "ID: 6, Kind: SUB, Value: -1\n",
      "ID: -1, Kind: INT, Value: 1, Parent ID: 6\n",
      "ID: 6, Kind: SUB, Value: -1\n",
      "ID: -2, Kind: INT, Value: 2, Parent ID: 6\n",
      "ID: 6, Kind: SUB, Value: -1\n"
     ]
    }
   ],
   "source": [
    "test_sum_minus = parser.sum(symbol=\"MINUS\", lhs=lhs, rhs=rhs)\n",
    "print(test_sum_minus)\n",
    "\n",
    "for child in test_sum_minus.children:\n",
    "    print(child)\n",
    "    print(child.parent)"
   ]
  },
  {
   "cell_type": "markdown",
   "metadata": {},
   "source": [
    "## `comparison`"
   ]
  },
  {
   "cell_type": "code",
   "execution_count": 9,
   "metadata": {},
   "outputs": [],
   "source": [
    "lhs = Node(id=-1, kind=\"INT\", value=1)\n",
    "rhs = Node(id=-2, kind=\"INT\", value=2)"
   ]
  },
  {
   "cell_type": "code",
   "execution_count": 10,
   "metadata": {},
   "outputs": [
    {
     "name": "stdout",
     "output_type": "stream",
     "text": [
      "ID: 4, Kind: LT, Value: -1\n",
      "ID: -1, Kind: INT, Value: 1, Parent ID: 4\n",
      "ID: 4, Kind: LT, Value: -1\n",
      "ID: -2, Kind: INT, Value: 2, Parent ID: 4\n",
      "ID: 4, Kind: LT, Value: -1\n"
     ]
    }
   ],
   "source": [
    "test_comparison = parser.comparison(lhs=lhs, rhs=rhs)\n",
    "print(test_comparison)\n",
    "\n",
    "for child in test_comparison.children:\n",
    "    print(child)\n",
    "    print(child.parent)"
   ]
  },
  {
   "cell_type": "code",
   "execution_count": null,
   "metadata": {},
   "outputs": [],
   "source": []
  }
 ],
 "metadata": {
  "kernelspec": {
   "display_name": "fastapi_tests",
   "language": "python",
   "name": "python3"
  },
  "language_info": {
   "codemirror_mode": {
    "name": "ipython",
    "version": 3
   },
   "file_extension": ".py",
   "mimetype": "text/x-python",
   "name": "python",
   "nbconvert_exporter": "python",
   "pygments_lexer": "ipython3",
   "version": "3.9.13"
  }
 },
 "nbformat": 4,
 "nbformat_minor": 2
}
